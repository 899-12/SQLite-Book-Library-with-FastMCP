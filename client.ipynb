{
 "cells": [
  {
   "cell_type": "code",
   "execution_count": 4,
   "id": "8ac53ab9",
   "metadata": {},
   "outputs": [],
   "source": [
    "import nest_asyncio\n",
    "import asyncio\n",
    "\n"
   ]
  },
  {
   "cell_type": "code",
   "execution_count": 6,
   "id": "ce76fdc0",
   "metadata": {},
   "outputs": [],
   "source": [
    "nest_asyncio.apply()\n",
    "\n",
    "from llama_index.llms.ollama import Ollama\n",
    "from llama_index.core import Settings\n",
    "from llama_index.tools.mcp import BasicMCPClient, McpToolSpec\n",
    "from llama_index.core.agent.workflow import FunctionAgent, ToolCallResult, ToolCall\n",
    "from llama_index.core.workflow import Context\n",
    "from llama_index.llms.openai import OpenAI  # Replace if using another LLM\n",
    "\n",
    "\n",
    "\n",
    "# Set your LLMs (you can switch between Ollama or OpenAI etc.)\n",
    "llm = Ollama(model=\"llama3:instruct\", request_timeout=120.0)\n",
    "Settings.llm = llm\n",
    "\n",
    "\n"
   ]
  },
  {
   "cell_type": "code",
   "execution_count": 7,
   "id": "b3b748c2",
   "metadata": {},
   "outputs": [],
   "source": [
    "# Create MCP client and get available tools\n",
    "mcp_client = BasicMCPClient(\"http://127.0.0.1:8000/sse\")\n",
    "mcp_tool_spec = McpToolSpec(client=mcp_client)"
   ]
  },
  {
   "cell_type": "code",
   "execution_count": 8,
   "id": "9d691919",
   "metadata": {},
   "outputs": [],
   "source": [
    "SYSTEM_PROMPT = \"\"\"\\\n",
    "You are an AI assistant for Tool Calling.\n",
    "\n",
    "Before you help a user, you need to work with tools to interact with our Book Library Database.\n",
    "\"\"\""
   ]
  },
  {
   "cell_type": "code",
   "execution_count": 9,
   "id": "b220ebfb",
   "metadata": {},
   "outputs": [],
   "source": [
    "async def get_agent(tool_spec: McpToolSpec) -> FunctionAgent:\n",
    "    tools = await tool_spec.to_tool_list_async()\n",
    "    agent = FunctionAgent(\n",
    "        name=\"Agent\",\n",
    "        description=\"Agent that can interact with the Book Library MCP tool server.\",\n",
    "        tools=tools,\n",
    "        llm=llm,\n",
    "        system_prompt=SYSTEM_PROMPT,\n",
    "    )\n",
    "    return agent\n"
   ]
  },
  {
   "cell_type": "code",
   "execution_count": 11,
   "id": "f274c8e6",
   "metadata": {},
   "outputs": [
    {
     "name": "stdout",
     "output_type": "stream",
     "text": [
      "🤖 Agent is ready. Type your queries or type 'exit' to quit.\n"
     ]
    }
   ],
   "source": [
    "async def handle_user_message(\n",
    "    message_content: str,\n",
    "    agent: FunctionAgent,\n",
    "    agent_context: Context,\n",
    "    verbose: bool = True,\n",
    "):\n",
    "    handler = agent.run(message_content, ctx=agent_context)\n",
    "\n",
    "    async for event in handler.stream_events():\n",
    "        if verbose and isinstance(event, ToolCall):\n",
    "            print(f\"🔧 Calling tool: {event.tool_name} | Params: {event.tool_kwargs}\")\n",
    "        elif verbose and isinstance(event, ToolCallResult):\n",
    "            print(f\"✅ Tool {event.tool_name} returned: {event.tool_output}\")\n",
    "\n",
    "    response = await handler\n",
    "    return str(response)\n",
    "\n",
    "async def main():\n",
    "    agent = await get_agent(mcp_tool_spec)\n",
    "    context = Context(agent)\n",
    "\n",
    "    print(\"🤖 Agent is ready. Type your queries or type 'exit' to quit.\")\n",
    "    while True:\n",
    "        user_input = input(\"User: \")\n",
    "        if user_input.lower() == \"exit\":\n",
    "            break\n",
    "        response = await handle_user_message(user_input, agent, context, verbose=True)\n",
    "        print(\"Agent:\", response)\n",
    "\n",
    "if __name__ == \"__main__\":\n",
    "    asyncio.run(main())"
   ]
  }
 ],
 "metadata": {
  "kernelspec": {
   "display_name": "venv",
   "language": "python",
   "name": "python3"
  },
  "language_info": {
   "codemirror_mode": {
    "name": "ipython",
    "version": 3
   },
   "file_extension": ".py",
   "mimetype": "text/x-python",
   "name": "python",
   "nbconvert_exporter": "python",
   "pygments_lexer": "ipython3",
   "version": "3.13.3"
  }
 },
 "nbformat": 4,
 "nbformat_minor": 5
}
